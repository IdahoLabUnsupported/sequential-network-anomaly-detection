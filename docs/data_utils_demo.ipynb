{
 "cells": [
  {
   "cell_type": "markdown",
   "metadata": {},
   "source": [
    "#### Copyright 2025, Battelle Energy Alliance, LLC, ALL RIGHTS RESERVED"
   ]
  },
  {
   "cell_type": "markdown",
   "metadata": {},
   "source": [
    "### Necessary Imports\n",
    "The sys.path.append is a workaround (I don't recommend it, but it works if you aren't familiar with package configuration) to make sure Python is able to find your files.\n",
    "\n",
    "Zeek is the dataset itself.\n",
    "ZeekCleaner is a utility that can automatically detect the type of and clean your data accordingly."
   ]
  },
  {
   "cell_type": "code",
   "execution_count": 1,
   "metadata": {},
   "outputs": [],
   "source": [
    "import sys\n",
    "sys.path.append(\"/home/katoaa/internship2024/katoaa\")\n",
    "\n",
    "from data.datasets import Zeek\n",
    "from data.cleaning import ZeekCleaner"
   ]
  },
  {
   "cell_type": "markdown",
   "metadata": {},
   "source": [
    "### Reading Data\n",
    "Just specify the path and pass it as data_path to your Zeek object.\n",
    "\n",
    "If you're interested in customizing the reading process, read the documentation for the `read` method and use the parameters for yourself."
   ]
  },
  {
   "cell_type": "code",
   "execution_count": 8,
   "metadata": {},
   "outputs": [
    {
     "data": {
      "text/plain": [
       "530173"
      ]
     },
     "execution_count": 8,
     "metadata": {},
     "output_type": "execute_result"
    }
   ],
   "source": [
    "base_path = \"/home/zeeklogs\"\n",
    "logs = Zeek(data_path=base_path)\n",
    "logs.n_connections()"
   ]
  },
  {
   "cell_type": "markdown",
   "metadata": {},
   "source": [
    "### Data Augmentation\n",
    "We can use some built in functionality to narrow down a large dataset to just keep observations we want.\n",
    "To view additional functionality, view the documentation by hovering in VSCode, or going to datasets.py"
   ]
  },
  {
   "cell_type": "code",
   "execution_count": 3,
   "metadata": {},
   "outputs": [
    {
     "data": {
      "text/plain": [
       "322621"
      ]
     },
     "execution_count": 3,
     "metadata": {},
     "output_type": "execute_result"
    }
   ],
   "source": [
    "# Removes connections that had no subsequent appearances in other log files\n",
    "logs.remove_empty_connections()\n",
    "logs.n_connections()"
   ]
  },
  {
   "cell_type": "code",
   "execution_count": 4,
   "metadata": {},
   "outputs": [
    {
     "data": {
      "text/plain": [
       "100000"
      ]
     },
     "execution_count": 4,
     "metadata": {},
     "output_type": "execute_result"
    }
   ],
   "source": [
    "# Keep the first n connections (or random ones if shuffle is true)\n",
    "logs.keep_n_connections(n=1e5, shuffle=True)\n",
    "logs.n_connections()"
   ]
  },
  {
   "cell_type": "code",
   "execution_count": null,
   "metadata": {},
   "outputs": [],
   "source": [
    "# We can remove anything from the data\n",
    "logs.remove(col=\"id.orig_h\", values=['8.8.8.8'])\n",
    "logs.remove(col=\"id.resp_h\", values=['8.8.8.8'])\n",
    "logs.n_connections()"
   ]
  },
  {
   "cell_type": "markdown",
   "metadata": {},
   "source": [
    "### Viewing Data"
   ]
  },
  {
   "cell_type": "code",
   "execution_count": 6,
   "metadata": {},
   "outputs": [
    {
     "data": {
      "text/html": [
       "<div>\n",
       "<style scoped>\n",
       "    .dataframe tbody tr th:only-of-type {\n",
       "        vertical-align: middle;\n",
       "    }\n",
       "\n",
       "    .dataframe tbody tr th {\n",
       "        vertical-align: top;\n",
       "    }\n",
       "\n",
       "    .dataframe thead th {\n",
       "        text-align: right;\n",
       "    }\n",
       "</style>\n",
       "<table border=\"1\" class=\"dataframe\">\n",
       "  <thead>\n",
       "    <tr style=\"text-align: right;\">\n",
       "      <th></th>\n",
       "      <th>ts</th>\n",
       "      <th>uid</th>\n",
       "      <th>id.orig_h</th>\n",
       "      <th>id.orig_p</th>\n",
       "      <th>id.resp_h</th>\n",
       "      <th>id.resp_p</th>\n",
       "      <th>proto</th>\n",
       "      <th>service</th>\n",
       "      <th>duration</th>\n",
       "      <th>orig_bytes</th>\n",
       "      <th>...</th>\n",
       "      <th>conn_state</th>\n",
       "      <th>local_orig</th>\n",
       "      <th>local_resp</th>\n",
       "      <th>missed_bytes</th>\n",
       "      <th>history</th>\n",
       "      <th>orig_pkts</th>\n",
       "      <th>orig_ip_bytes</th>\n",
       "      <th>resp_pkts</th>\n",
       "      <th>resp_ip_bytes</th>\n",
       "      <th>tunnel_parents</th>\n",
       "    </tr>\n",
       "  </thead>\n",
       "  <tbody>\n",
       "    <tr>\n",
       "      <th>361168</th>\n",
       "      <td>2022-07-14 19:19:53.920833111</td>\n",
       "      <td>Czh3vq2mAUUjhH8rXf</td>\n",
       "      <td>192.168.70.203</td>\n",
       "      <td>53856</td>\n",
       "      <td>23.96.94.139</td>\n",
       "      <td>443</td>\n",
       "      <td>tcp</td>\n",
       "      <td>nan</td>\n",
       "      <td>NaT</td>\n",
       "      <td>&lt;NA&gt;</td>\n",
       "      <td>...</td>\n",
       "      <td>OTH</td>\n",
       "      <td>nan</td>\n",
       "      <td>nan</td>\n",
       "      <td>0</td>\n",
       "      <td>C</td>\n",
       "      <td>0</td>\n",
       "      <td>0</td>\n",
       "      <td>0</td>\n",
       "      <td>0</td>\n",
       "      <td>nan</td>\n",
       "    </tr>\n",
       "    <tr>\n",
       "      <th>425922</th>\n",
       "      <td>2022-07-14 19:20:04.698591948</td>\n",
       "      <td>CsAxj51ItCrQTCpcu</td>\n",
       "      <td>192.168.70.203</td>\n",
       "      <td>51734</td>\n",
       "      <td>13.88.31.235</td>\n",
       "      <td>443</td>\n",
       "      <td>tcp</td>\n",
       "      <td>nan</td>\n",
       "      <td>0 days 02:26:45.363254</td>\n",
       "      <td>0</td>\n",
       "      <td>...</td>\n",
       "      <td>OTH</td>\n",
       "      <td>nan</td>\n",
       "      <td>nan</td>\n",
       "      <td>0</td>\n",
       "      <td>CdCCa</td>\n",
       "      <td>0</td>\n",
       "      <td>0</td>\n",
       "      <td>234</td>\n",
       "      <td>30514</td>\n",
       "      <td>nan</td>\n",
       "    </tr>\n",
       "    <tr>\n",
       "      <th>362850</th>\n",
       "      <td>2022-07-14 19:20:12.146811008</td>\n",
       "      <td>C0rtsK1EyEKaFOVrBb</td>\n",
       "      <td>192.168.70.222</td>\n",
       "      <td>37754</td>\n",
       "      <td>192.168.70.130</td>\n",
       "      <td>88</td>\n",
       "      <td>tcp</td>\n",
       "      <td>nan</td>\n",
       "      <td>0 days 00:00:00.009936</td>\n",
       "      <td>1404</td>\n",
       "      <td>...</td>\n",
       "      <td>OTH</td>\n",
       "      <td>nan</td>\n",
       "      <td>nan</td>\n",
       "      <td>0</td>\n",
       "      <td>^cCD</td>\n",
       "      <td>1</td>\n",
       "      <td>1444</td>\n",
       "      <td>0</td>\n",
       "      <td>0</td>\n",
       "      <td>nan</td>\n",
       "    </tr>\n",
       "    <tr>\n",
       "      <th>361181</th>\n",
       "      <td>2022-07-14 19:20:12.183937073</td>\n",
       "      <td>Ci2nby33LNuetdR31a</td>\n",
       "      <td>192.168.70.222</td>\n",
       "      <td>43676</td>\n",
       "      <td>192.168.70.130</td>\n",
       "      <td>445</td>\n",
       "      <td>tcp</td>\n",
       "      <td>nan</td>\n",
       "      <td>NaT</td>\n",
       "      <td>&lt;NA&gt;</td>\n",
       "      <td>...</td>\n",
       "      <td>OTH</td>\n",
       "      <td>nan</td>\n",
       "      <td>nan</td>\n",
       "      <td>0</td>\n",
       "      <td>C</td>\n",
       "      <td>0</td>\n",
       "      <td>0</td>\n",
       "      <td>0</td>\n",
       "      <td>0</td>\n",
       "      <td>nan</td>\n",
       "    </tr>\n",
       "    <tr>\n",
       "      <th>361182</th>\n",
       "      <td>2022-07-14 19:20:12.354305983</td>\n",
       "      <td>CnGo9j2UnnqItVRKlh</td>\n",
       "      <td>192.168.70.222</td>\n",
       "      <td>37762</td>\n",
       "      <td>192.168.70.130</td>\n",
       "      <td>88</td>\n",
       "      <td>tcp</td>\n",
       "      <td>nan</td>\n",
       "      <td>NaT</td>\n",
       "      <td>&lt;NA&gt;</td>\n",
       "      <td>...</td>\n",
       "      <td>OTH</td>\n",
       "      <td>nan</td>\n",
       "      <td>nan</td>\n",
       "      <td>0</td>\n",
       "      <td>C</td>\n",
       "      <td>0</td>\n",
       "      <td>0</td>\n",
       "      <td>0</td>\n",
       "      <td>0</td>\n",
       "      <td>nan</td>\n",
       "    </tr>\n",
       "  </tbody>\n",
       "</table>\n",
       "<p>5 rows × 21 columns</p>\n",
       "</div>"
      ],
      "text/plain": [
       "                                  ts                 uid       id.orig_h  \\\n",
       "361168 2022-07-14 19:19:53.920833111  Czh3vq2mAUUjhH8rXf  192.168.70.203   \n",
       "425922 2022-07-14 19:20:04.698591948   CsAxj51ItCrQTCpcu  192.168.70.203   \n",
       "362850 2022-07-14 19:20:12.146811008  C0rtsK1EyEKaFOVrBb  192.168.70.222   \n",
       "361181 2022-07-14 19:20:12.183937073  Ci2nby33LNuetdR31a  192.168.70.222   \n",
       "361182 2022-07-14 19:20:12.354305983  CnGo9j2UnnqItVRKlh  192.168.70.222   \n",
       "\n",
       "        id.orig_p       id.resp_h  id.resp_p proto service  \\\n",
       "361168      53856    23.96.94.139        443   tcp     nan   \n",
       "425922      51734    13.88.31.235        443   tcp     nan   \n",
       "362850      37754  192.168.70.130         88   tcp     nan   \n",
       "361181      43676  192.168.70.130        445   tcp     nan   \n",
       "361182      37762  192.168.70.130         88   tcp     nan   \n",
       "\n",
       "                     duration  orig_bytes  ...  conn_state local_orig  \\\n",
       "361168                    NaT        <NA>  ...         OTH        nan   \n",
       "425922 0 days 02:26:45.363254           0  ...         OTH        nan   \n",
       "362850 0 days 00:00:00.009936        1404  ...         OTH        nan   \n",
       "361181                    NaT        <NA>  ...         OTH        nan   \n",
       "361182                    NaT        <NA>  ...         OTH        nan   \n",
       "\n",
       "       local_resp missed_bytes  history orig_pkts  orig_ip_bytes  resp_pkts  \\\n",
       "361168        nan            0        C         0              0          0   \n",
       "425922        nan            0    CdCCa         0              0        234   \n",
       "362850        nan            0     ^cCD         1           1444          0   \n",
       "361181        nan            0        C         0              0          0   \n",
       "361182        nan            0        C         0              0          0   \n",
       "\n",
       "        resp_ip_bytes  tunnel_parents  \n",
       "361168              0             nan  \n",
       "425922          30514             nan  \n",
       "362850              0             nan  \n",
       "361181              0             nan  \n",
       "361182              0             nan  \n",
       "\n",
       "[5 rows x 21 columns]"
      ]
     },
     "execution_count": 6,
     "metadata": {},
     "output_type": "execute_result"
    }
   ],
   "source": [
    "logs.sort()\n",
    "logs.get('conn').head()"
   ]
  },
  {
   "cell_type": "code",
   "execution_count": 7,
   "metadata": {},
   "outputs": [
    {
     "data": {
      "text/html": [
       "<div>\n",
       "<style scoped>\n",
       "    .dataframe tbody tr th:only-of-type {\n",
       "        vertical-align: middle;\n",
       "    }\n",
       "\n",
       "    .dataframe tbody tr th {\n",
       "        vertical-align: top;\n",
       "    }\n",
       "\n",
       "    .dataframe thead th {\n",
       "        text-align: right;\n",
       "    }\n",
       "</style>\n",
       "<table border=\"1\" class=\"dataframe\">\n",
       "  <thead>\n",
       "    <tr style=\"text-align: right;\">\n",
       "      <th></th>\n",
       "      <th>ts</th>\n",
       "      <th>uid</th>\n",
       "      <th>id.orig_h</th>\n",
       "      <th>id.orig_p</th>\n",
       "      <th>id.resp_h</th>\n",
       "      <th>id.resp_p</th>\n",
       "      <th>trans_depth</th>\n",
       "      <th>method</th>\n",
       "      <th>host</th>\n",
       "      <th>uri</th>\n",
       "      <th>...</th>\n",
       "      <th>tags</th>\n",
       "      <th>username</th>\n",
       "      <th>password</th>\n",
       "      <th>proxied</th>\n",
       "      <th>orig_fuids</th>\n",
       "      <th>orig_filenames</th>\n",
       "      <th>orig_mime_types</th>\n",
       "      <th>resp_fuids</th>\n",
       "      <th>resp_filenames</th>\n",
       "      <th>resp_mime_types</th>\n",
       "    </tr>\n",
       "  </thead>\n",
       "  <tbody>\n",
       "    <tr>\n",
       "      <th>0</th>\n",
       "      <td>2022-07-27 15:53:42.778825998</td>\n",
       "      <td>CMnAy51RtcL6pWtfjh</td>\n",
       "      <td>192.168.70.232</td>\n",
       "      <td>48120</td>\n",
       "      <td>35.232.111.17</td>\n",
       "      <td>80</td>\n",
       "      <td>1</td>\n",
       "      <td>GET</td>\n",
       "      <td>connectivity-check.ubuntu.com</td>\n",
       "      <td>/</td>\n",
       "      <td>...</td>\n",
       "      <td>(empty)</td>\n",
       "      <td>NaN</td>\n",
       "      <td>NaN</td>\n",
       "      <td>NaN</td>\n",
       "      <td>NaN</td>\n",
       "      <td>NaN</td>\n",
       "      <td>NaN</td>\n",
       "      <td>NaN</td>\n",
       "      <td>NaN</td>\n",
       "      <td>NaN</td>\n",
       "    </tr>\n",
       "    <tr>\n",
       "      <th>1</th>\n",
       "      <td>2022-07-27 15:55:27.064935923</td>\n",
       "      <td>CTCA6k27HXksnP0iXf</td>\n",
       "      <td>192.168.70.160</td>\n",
       "      <td>61925</td>\n",
       "      <td>23.192.208.58</td>\n",
       "      <td>80</td>\n",
       "      <td>1</td>\n",
       "      <td>HEAD</td>\n",
       "      <td>officecdn.microsoft.com</td>\n",
       "      <td>/pr/492350f6-3a01-4f97-b9c0-c7c6ddf67d60/Offic...</td>\n",
       "      <td>...</td>\n",
       "      <td>(empty)</td>\n",
       "      <td>NaN</td>\n",
       "      <td>NaN</td>\n",
       "      <td>NaN</td>\n",
       "      <td>NaN</td>\n",
       "      <td>NaN</td>\n",
       "      <td>NaN</td>\n",
       "      <td>NaN</td>\n",
       "      <td>NaN</td>\n",
       "      <td>NaN</td>\n",
       "    </tr>\n",
       "    <tr>\n",
       "      <th>3</th>\n",
       "      <td>2022-07-27 15:55:28.858403921</td>\n",
       "      <td>CTCA6k27HXksnP0iXf</td>\n",
       "      <td>192.168.70.160</td>\n",
       "      <td>61925</td>\n",
       "      <td>23.192.208.58</td>\n",
       "      <td>80</td>\n",
       "      <td>2</td>\n",
       "      <td>HEAD</td>\n",
       "      <td>officecdn.microsoft.com</td>\n",
       "      <td>/pr/492350f6-3a01-4f97-b9c0-c7c6ddf67d60/Offic...</td>\n",
       "      <td>...</td>\n",
       "      <td>(empty)</td>\n",
       "      <td>NaN</td>\n",
       "      <td>NaN</td>\n",
       "      <td>NaN</td>\n",
       "      <td>NaN</td>\n",
       "      <td>NaN</td>\n",
       "      <td>NaN</td>\n",
       "      <td>NaN</td>\n",
       "      <td>NaN</td>\n",
       "      <td>NaN</td>\n",
       "    </tr>\n",
       "    <tr>\n",
       "      <th>5</th>\n",
       "      <td>2022-07-27 15:55:28.939876080</td>\n",
       "      <td>CTCA6k27HXksnP0iXf</td>\n",
       "      <td>192.168.70.160</td>\n",
       "      <td>61925</td>\n",
       "      <td>23.192.208.58</td>\n",
       "      <td>80</td>\n",
       "      <td>3</td>\n",
       "      <td>HEAD</td>\n",
       "      <td>officecdn.microsoft.com</td>\n",
       "      <td>/pr/492350f6-3a01-4f97-b9c0-c7c6ddf67d60/Offic...</td>\n",
       "      <td>...</td>\n",
       "      <td>(empty)</td>\n",
       "      <td>NaN</td>\n",
       "      <td>NaN</td>\n",
       "      <td>NaN</td>\n",
       "      <td>NaN</td>\n",
       "      <td>NaN</td>\n",
       "      <td>NaN</td>\n",
       "      <td>NaN</td>\n",
       "      <td>NaN</td>\n",
       "      <td>NaN</td>\n",
       "    </tr>\n",
       "    <tr>\n",
       "      <th>7</th>\n",
       "      <td>2022-07-27 15:55:29.007740974</td>\n",
       "      <td>CTCA6k27HXksnP0iXf</td>\n",
       "      <td>192.168.70.160</td>\n",
       "      <td>61925</td>\n",
       "      <td>23.192.208.58</td>\n",
       "      <td>80</td>\n",
       "      <td>4</td>\n",
       "      <td>GET</td>\n",
       "      <td>officecdn.microsoft.com</td>\n",
       "      <td>/pr/492350f6-3a01-4f97-b9c0-c7c6ddf67d60/Offic...</td>\n",
       "      <td>...</td>\n",
       "      <td>(empty)</td>\n",
       "      <td>NaN</td>\n",
       "      <td>NaN</td>\n",
       "      <td>NaN</td>\n",
       "      <td>NaN</td>\n",
       "      <td>NaN</td>\n",
       "      <td>NaN</td>\n",
       "      <td>NaN</td>\n",
       "      <td>NaN</td>\n",
       "      <td>NaN</td>\n",
       "    </tr>\n",
       "  </tbody>\n",
       "</table>\n",
       "<p>5 rows × 30 columns</p>\n",
       "</div>"
      ],
      "text/plain": [
       "                             ts                 uid       id.orig_h  \\\n",
       "0 2022-07-27 15:53:42.778825998  CMnAy51RtcL6pWtfjh  192.168.70.232   \n",
       "1 2022-07-27 15:55:27.064935923  CTCA6k27HXksnP0iXf  192.168.70.160   \n",
       "3 2022-07-27 15:55:28.858403921  CTCA6k27HXksnP0iXf  192.168.70.160   \n",
       "5 2022-07-27 15:55:28.939876080  CTCA6k27HXksnP0iXf  192.168.70.160   \n",
       "7 2022-07-27 15:55:29.007740974  CTCA6k27HXksnP0iXf  192.168.70.160   \n",
       "\n",
       "   id.orig_p      id.resp_h  id.resp_p  trans_depth method  \\\n",
       "0      48120  35.232.111.17         80            1    GET   \n",
       "1      61925  23.192.208.58         80            1   HEAD   \n",
       "3      61925  23.192.208.58         80            2   HEAD   \n",
       "5      61925  23.192.208.58         80            3   HEAD   \n",
       "7      61925  23.192.208.58         80            4    GET   \n",
       "\n",
       "                            host  \\\n",
       "0  connectivity-check.ubuntu.com   \n",
       "1        officecdn.microsoft.com   \n",
       "3        officecdn.microsoft.com   \n",
       "5        officecdn.microsoft.com   \n",
       "7        officecdn.microsoft.com   \n",
       "\n",
       "                                                 uri  ...     tags username  \\\n",
       "0                                                  /  ...  (empty)      NaN   \n",
       "1  /pr/492350f6-3a01-4f97-b9c0-c7c6ddf67d60/Offic...  ...  (empty)      NaN   \n",
       "3  /pr/492350f6-3a01-4f97-b9c0-c7c6ddf67d60/Offic...  ...  (empty)      NaN   \n",
       "5  /pr/492350f6-3a01-4f97-b9c0-c7c6ddf67d60/Offic...  ...  (empty)      NaN   \n",
       "7  /pr/492350f6-3a01-4f97-b9c0-c7c6ddf67d60/Offic...  ...  (empty)      NaN   \n",
       "\n",
       "  password proxied  orig_fuids  orig_filenames  orig_mime_types resp_fuids  \\\n",
       "0      NaN     NaN         NaN             NaN              NaN        NaN   \n",
       "1      NaN     NaN         NaN             NaN              NaN        NaN   \n",
       "3      NaN     NaN         NaN             NaN              NaN        NaN   \n",
       "5      NaN     NaN         NaN             NaN              NaN        NaN   \n",
       "7      NaN     NaN         NaN             NaN              NaN        NaN   \n",
       "\n",
       "   resp_filenames resp_mime_types  \n",
       "0             NaN             NaN  \n",
       "1             NaN             NaN  \n",
       "3             NaN             NaN  \n",
       "5             NaN             NaN  \n",
       "7             NaN             NaN  \n",
       "\n",
       "[5 rows x 30 columns]"
      ]
     },
     "execution_count": 7,
     "metadata": {},
     "output_type": "execute_result"
    }
   ],
   "source": [
    "logs.get('http').head()"
   ]
  },
  {
   "cell_type": "markdown",
   "metadata": {},
   "source": [
    "### Getting Ready for a Model\n",
    "\n",
    "This data comes from HPC. All attacker IPs will end up in the test set."
   ]
  },
  {
   "cell_type": "code",
   "execution_count": 8,
   "metadata": {},
   "outputs": [],
   "source": [
    "attacker_ips = [\"192.168.70.137\", \"64.227.69.82\", \"104.248.193.232\"]\n",
    "train, test = logs.train_test_split(test_ips=attacker_ips, ratio=0.1, shuffle=True)"
   ]
  },
  {
   "cell_type": "code",
   "execution_count": 9,
   "metadata": {},
   "outputs": [
    {
     "name": "stdout",
     "output_type": "stream",
     "text": [
      "68419\n",
      "7602\n"
     ]
    }
   ],
   "source": [
    "print(train.n_connections())\n",
    "print(test.n_connections())"
   ]
  },
  {
   "cell_type": "code",
   "execution_count": null,
   "metadata": {},
   "outputs": [],
   "source": [
    "# This will preprocess our data. You can customize this extensively via configs/cleaner_assignments.py\n",
    "# and data/log_cleaners.py\n",
    "cleaner = ZeekCleaner()\n",
    "train_processed = cleaner.fit_transform(train)\n",
    "test_processed = cleaner.transform(test)"
   ]
  },
  {
   "cell_type": "markdown",
   "metadata": {},
   "source": [
    "Notice that in this instance, some transforms were not learned from the training data. As the warning suggests,\n",
    "this means that the log file never appears when the call to .fit was made. Presumably, this means its a log file\n",
    "that is only found in the test set. You can choose to handle this how you'd like.\n",
    "\n",
    "### PyTorch Ready\n",
    "\n",
    "Now, we can make our logs model input compatible. There is a prebuilt way to do this, though for more specific\n",
    "needs you might need to make your own dataloader using calls to data.get(log)."
   ]
  },
  {
   "cell_type": "code",
   "execution_count": 11,
   "metadata": {},
   "outputs": [
    {
     "name": "stdout",
     "output_type": "stream",
     "text": [
      "torch.Size([1024, 47])\n",
      "torch.Size([1024, 47])\n",
      "torch.Size([1024, 47])\n",
      "torch.Size([1024, 47])\n",
      "torch.Size([1024, 47])\n",
      "torch.Size([1024, 47])\n",
      "torch.Size([1024, 47])\n",
      "torch.Size([434, 47])\n"
     ]
    }
   ],
   "source": [
    "test_loader = test_processed.to_torch_loader('conn', batch_size=1024, shuffle=False, num_workers=4)\n",
    "for idx, X in enumerate(test_loader):\n",
    "    print(X.shape)"
   ]
  },
  {
   "cell_type": "markdown",
   "metadata": {},
   "source": [
    "### Saving and Reusing Work"
   ]
  },
  {
   "cell_type": "code",
   "execution_count": 12,
   "metadata": {},
   "outputs": [
    {
     "data": {
      "text/plain": [
       "True"
      ]
     },
     "execution_count": 12,
     "metadata": {},
     "output_type": "execute_result"
    }
   ],
   "source": [
    "train.save(\"/projects/data/example.pkl\")\n",
    "reloaded = Zeek.load(\"/projects/data/example.pkl\")  # This is a static method\n",
    "train.n_connections() == reloaded.n_connections()"
   ]
  }
 ],
 "metadata": {
  "kernelspec": {
   "display_name": "Python 3",
   "language": "python",
   "name": "python3"
  },
  "language_info": {
   "codemirror_mode": {
    "name": "ipython",
    "version": 3
   },
   "file_extension": ".py",
   "mimetype": "text/x-python",
   "name": "python",
   "nbconvert_exporter": "python",
   "pygments_lexer": "ipython3",
   "version": "3.10.14"
  }
 },
 "nbformat": 4,
 "nbformat_minor": 2
}
